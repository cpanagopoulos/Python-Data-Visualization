{
 "cells": [
  {
   "cell_type": "markdown",
   "metadata": {},
   "source": [
    "# San Francisco Rental Prices Dashboard\n",
    "\n",
    "In this notebook, you will compile the visualizations from the previous analysis into functions that can be used for a Panel dashboard."
   ]
  },
  {
   "cell_type": "code",
   "execution_count": null,
   "metadata": {},
   "outputs": [],
   "source": [
    "# imports\n",
    "import panel as pn\n",
    "pn.extension('plotly')\n",
    "import plotly.express as px\n",
    "import pandas as pd\n",
    "import hvplot.pandas\n",
    "import matplotlib.pyplot as plt\n",
    "import os\n",
    "from pathlib import Path\n",
    "from dotenv import load_dotenv"
   ]
  },
  {
   "cell_type": "code",
   "execution_count": null,
   "metadata": {},
   "outputs": [],
   "source": [
    "# Read the Mapbox API key\n",
    "load_dotenv()\n",
    "map_box_api = os.getenv(\"mapbox\")\n",
    "px.set_mapbox_access_token(map_box_api)"
   ]
  },
  {
   "cell_type": "markdown",
   "metadata": {},
   "source": [
    "# Import Data"
   ]
  },
  {
   "cell_type": "code",
   "execution_count": null,
   "metadata": {},
   "outputs": [],
   "source": [
    "# Import the necessary CSVs to Pandas DataFrames\n",
    "file_path = Path(\"Data/sfo_neighborhoods_census_data.csv\")\n",
    "sfo_data = pd.read_csv(file_path, index_col=\"year\")\n",
    "\n",
    "neighborhood_file_path = Path(\"Data/neighborhoods_coordinates.csv\")\n",
    "neighborhood_data = pd.read_csv(neighborhood_file_path, index_col=\"Neighborhood\")\n",
    "\n",
    "print(sfo_data)\n",
    "print(neighborhood_data)"
   ]
  },
  {
   "cell_type": "markdown",
   "metadata": {},
   "source": [
    "- - -"
   ]
  },
  {
   "cell_type": "markdown",
   "metadata": {},
   "source": [
    "## Panel Visualizations\n",
    "\n",
    "In this section, you will copy the code for each plot type from your analysis notebook and place it into separate functions that Panel can use to create panes for the dashboard. \n",
    "\n",
    "These functions will convert the plot object to a Panel pane.\n",
    "\n",
    "Be sure to include any DataFrame transformation/manipulation code required along with the plotting code.\n",
    "\n",
    "Return a Panel pane object from each function that can be used to build the dashboard.\n",
    "\n",
    "Note: Remove any `.show()` lines from the code. We want to return the plots instead of showing them. The Panel dashboard will then display the plots."
   ]
  },
  {
   "cell_type": "code",
   "execution_count": null,
   "metadata": {
    "scrolled": true
   },
   "outputs": [],
   "source": [
    "# Define Panel Visualization Functions\n",
    "def housing_units_per_year():\n",
    "    \"\"\"Housing Units Per Year.\"\"\"\n",
    "    \n",
    "    housing_units = sfo_data['housing_units'].groupby(sfo_data.index).mean()\n",
    "    \n",
    "    fig_housing_units = plt.figure()\n",
    "    plot_housing_units = housing_units.plot.bar()\n",
    "    plot_housing_units.set_xlabel(\"Year\", fontsize=12)\n",
    "    plot_housing_units.set_ylabel(\"Housing Units\", fontsize=12)\n",
    "    plot_housing_units.set_title(\"Housing Units in San Francisco from 2010 to 2016\");\n",
    "    \n",
    "    return pn.pane.Matplotlib(fig_housing_units, tight=True)\n",
    "\n",
    "def average_gross_rent():\n",
    "    \"\"\"Average Gross Rent in San Francisco Per Year.\"\"\"\n",
    "    \n",
    "    avg_gross_rent = (\n",
    "    sfo_data[[\"sale_price_sqr_foot\", \"gross_rent\"]]\n",
    "    .groupby(sfo_data.index)\n",
    "    .mean()\n",
    "    )\n",
    "    \n",
    "    fig = plt.figure()\n",
    "    plot_avg_gross_rent = avg_gross_rent['gross_rent'].plot()\n",
    "    plot_avg_gross_rent.set_xlabel('Year', fontsize=12)\n",
    "    plot_avg_gross_rent.set_ylabel(\"Gross Rent\", fontsize=12)\n",
    "    plot_avg_gross_rent.set_title('Average Gross Rent by Year', fontsize=14, fontweight=\"bold\")    \n",
    "    plt.show()\n",
    "    plt.close(fig)\n",
    "\n",
    "\n",
    "def average_sales_price():\n",
    "    \"\"\"Average Sales Price Per Year.\"\"\"\n",
    "    \n",
    "    avg_sale_price = (\n",
    "    sfo_data[[\"sale_price_sqr_foot\", \"gross_rent\"]]\n",
    "    .groupby(sfo_data.index)\n",
    "    .mean()\n",
    "    )\n",
    "\n",
    "    fig_avg_sale_price = plt.figure()\n",
    "    plot_avg_sale_price = avg_sale_price['sale_price_sqr_foot'].plot()\n",
    "    plot_avg_sale_price.set_xlabel('Year', fontsize=12)\n",
    "    plot_avg_sale_price.set_ylabel('Average Sale Price', fontsize=12)\n",
    "    plot_avg_sale_price.set_title('Average Sale Price/SqFt', fontsize=14, fontweight=\"bold\")    \n",
    "    plt.close(fig_avg_sale_price)\n",
    "    return pn.pane.Matplotlib(fig_avg_sale_price, tight=True)\n",
    "\n",
    "\n",
    "\n",
    "def average_price_by_neighborhood():\n",
    "    \"\"\"Average Prices by Neighborhood.\"\"\"\n",
    "    \n",
    "    mean_values = sfo_data.groupby([sfo_data.index, \"neighborhood\"]).mean()\n",
    "    mean_values.reset_index(inplace=True)\n",
    "    mean_values.rename(columns={\"level_0\": \"year\"}, inplace=True)\n",
    "    \n",
    "    sale_price_curve = mean_values.hvplot.line(\n",
    "        \"year\",\n",
    "        \"sale_price_sqr_foot\",\n",
    "        xlabel=\"Year\",\n",
    "        ylabel=\"Avg. Sale Price/SqFt\",\n",
    "        groupby=\"neighborhood\",\n",
    "    )\n",
    "    return sale_price_curve\n",
    "\n",
    "\n",
    "\n",
    "def top_most_expensive_neighborhoods():\n",
    "    \"\"\"Top 10 Most Expensive Neighborhoods.\"\"\"\n",
    "\n",
    "    exp_neighborhoods = sfo_data.groupby(by='neighborhood').mean()\n",
    "    exp_neighborhoods = exp_neighborhoods.sort_values(by=\"sale_price_sqr_foot\", ascending=False).head(10)\n",
    "    exp_neighborhoods = exp_neighborhoods.reset_index()\n",
    "    exp_neighborhoods\n",
    "\n",
    "    expensive_neighborhoods = exp_neighborhoods.hvplot.bar(\n",
    "        \"neighborhood\",\n",
    "        \"sale_price_sqr_foot\",\n",
    "        title=\"Top 10 Expensive Neighborhoods in SFO\",\n",
    "        xlabel=\"Neighborhood\",\n",
    "        ylabel=\"Avg. Sale Price per Square Foot\",\n",
    "        height=400,\n",
    "        rot=90,\n",
    "    )\n",
    "    return expensive_neighborhoods\n",
    "\n",
    "def most_expensive_neighborhoods_rent_sales():\n",
    "    \"\"\"Comparison of Rent and Sales Prices of Most Expensive Neighborhoods.\"\"\"   \n",
    "    \n",
    "    mean_values = sfo_data.groupby([sfo_data.index, \"neighborhood\"]).mean()\n",
    "    mean_values.reset_index(inplace=True)\n",
    "    mean_values.rename(columns={\"level_0\": \"year\"}, inplace=True)\n",
    "    \n",
    "    rental_sale_plot = mean_values.hvplot.bar(\n",
    "        \"year\",\n",
    "        [\"gross_rent\", \"sale_price_sqr_foot\"],\n",
    "        xlabel=\"Neighborhood\",\n",
    "        ylabel=\"Housing Units\",\n",
    "        groupby=\"neighborhood\",\n",
    "    )\n",
    "    return rental_sale_plot\n",
    "\n",
    "    \n",
    "    \n",
    "def parallel_coordinates():\n",
    "    \"\"\"Parallel Coordinates Plot.\"\"\"\n",
    "\n",
    "    exp_neighborhoods = sfo_data.groupby(by=\"neighborhood\").mean()\n",
    "    exp_neighborhoods = exp_neighborhoods.sort_values(\n",
    "        by=\"sale_price_sqr_foot\", ascending=False\n",
    "    ).head(10)\n",
    "    exp_neighborhoods = df_expensive_neighborhoods.reset_index()\n",
    "    \n",
    "    exp_coordinates_plot = px.parallel_coordinates(\n",
    "        exp_neighborhoods,\n",
    "        color=\"sale_price_sqr_foot\",\n",
    "        color_continuous_scale=px.colors.sequential.Inferno,\n",
    "        title=\"Parallel Coordinates Analysis of Most Expensive Neighborhoods in San Francisco\"\n",
    "    )\n",
    "    return expensive_coordinates_plot\n",
    "\n",
    "\n",
    "\n",
    "def parallel_categories():\n",
    "    \"\"\"Parallel Categories Plot.\"\"\"\n",
    "    \n",
    "    exp_neighborhoods = sfo_data.groupby(by=\"neighborhood\").mean()\n",
    "    exp_neighborhoods = exp_neighborhoods.sort_values(\n",
    "        by=\"sale_price_sqr_foot\", ascending=False\n",
    "    ).head(10)\n",
    "    exp_neighborhoods = exp_neighborhoods.reset_index()\n",
    "    \n",
    "    exp_categories_plot = px.parallel_categories(\n",
    "        exp_neighborhoods,\n",
    "        color=\"sale_price_sqr_foot\",\n",
    "        color_continuous_scale=px.colors.sequential.Inferno,\n",
    "        title=\"Parallel Categories Analysis of Most Expensive Neighborhoods in San Francisco\"\n",
    "    )\n",
    "    return expensive_categories_plot\n",
    "\n",
    "\n",
    "\n",
    "def neighborhood_map():\n",
    "    \"\"\"Neighborhood Map.\"\"\"\n",
    "\n",
    "    px.set_mapbox_access_token(map_box_api)\n",
    "    \n",
    "    location_df = neighborhood_data.groupby('Neighborhood').mean()\n",
    "    location_df.reset_index(inplace=True)\n",
    "    location_df.rename(columns={\"neighborhood\": \"Neighborhood\"}, inplace=True)\n",
    "\n",
    "    location_df = pd.merge(\n",
    "        neighborhood_data, location_df, on=\"Neighborhood\"\n",
    "    )\n",
    "\n",
    "    neighborhood_map = px.scatter_mapbox(\n",
    "        location_df,\n",
    "        lat=\"Lat_x\",\n",
    "        lon=\"Lon_y\",\n",
    "        size=\"Neighborhood\",\n",
    "        color=\"Neighborhood\",\n",
    "        color_continuous_scale=px.colors.cyclical.IceFire,\n",
    "        size_max=15,\n",
    "        zoom=11,\n",
    "        hover_name=\"Neighborhood\",\n",
    "        title=\"Average Sale Price Per SqFt And Gross Rent in San Francisco\",\n",
    "    )\n",
    "    plotly_panel = pn.pane.Plotly(neighborhood_map)\n",
    "    plotly_panel._updates = True\n",
    "    return plotly_panel\n",
    "\n",
    "\n",
    "def sunburst():\n",
    "    \"\"\"Sunburst Plot.\"\"\"\n",
    "    mean_values = sfo_data.groupby([sfo_data.index, \"neighborhood\"]).mean()\n",
    "    mean_values.reset_index(inplace=True)\n",
    "    mean_values.rename(columns={\"level_0\": \"year\"}, inplace=True)\n",
    "    exp_neighborhoods = sfo_data.groupby(by=\"neighborhood\").mean()\n",
    "    exp_neighborhoods = exp_neighborhoods.sort_values(\n",
    "        by=\"sale_price_sqr_foot\", ascending=False\n",
    "    ).head(10)\n",
    "    exp_neighborhoods = df_expensive_neighborhoods.reset_index()\n",
    "    exp_neighborhoods_per_year = mean_values[mean_values[\"neighborhood\"].isin(exp_neighborhoods[\"neighborhood\"])]\n",
    "    fig_sunburst = px.sunburst(\n",
    "        exp_neighborhoods_per_year,\n",
    "        path=[\"year\", \"neighborhood\"],\n",
    "        values='sale_price_sqr_foot',\n",
    "        color='Neighborhood', \n",
    "        color_continuous_scale='Blues',\n",
    "        title=\"Costs Analysis of Most Expensive neighborhoods in San Francisco per Year\",\n",
    "        height=700)\n",
    "    plotly_panel_sunburst = pn.pane.Plotly(fig_sunburst)\n",
    "    plotly_panel_sunburst._updates = True\n",
    "    return plotly_panel_sunburst  \n"
   ]
  },
  {
   "cell_type": "markdown",
   "metadata": {},
   "source": [
    "## Panel Dashboard\n",
    "\n",
    "In this section, you will combine all of the plots into a single dashboard view using Panel. Be creative with your dashboard design!"
   ]
  },
  {
   "cell_type": "code",
   "execution_count": null,
   "metadata": {},
   "outputs": [],
   "source": [
    "# Create a Title for the Dashboard\n",
    "title = pn.pane.Markdown(\n",
    "    \"\"\"Rental Analysis of San Francisco from 2010 to 2016\"\"\")\n",
    "\n",
    "welcome = pn.pane.Markdown(\n",
    "    \"\"\"\n",
    "This dashboard is a visual analysis of historical prices of house units,\n",
    "sale price per square foot and gross rent in San Francisco, California\n",
    "from 2010 to 2016.\n",
    "Navigate the tabs to explore \n",
    "more details about the evolution of the real estate market in\n",
    "San Francisco across these years.\n",
    "\"\"\"\n",
    ")\n",
    "\n",
    "# Create a tab layout for the dashboard\n",
    "tabs = pn.Tabs(\n",
    "    (\"Welcome\", pn.Column(welcome, neighborhood_map())),\n",
    "    (\"Market Analysis\", pn.Row(housing_units_per_year(), average_gross_rent(), average_sales_price())),\n",
    "    (\"Neighborhood Analysis\", pn.Column(average_price_by_neighborhood(), top_most_expensive_neighborhoods(), most_expensive_neighborhoods_rent_sales())),\n",
    "    (\"Parallel Plots Analysis\", pn.Column(parallel_coordinates(), parallel_categories(), width=960)),\n",
    "    (\"Sunburst Plot Analysis\", pn.Column(sunburst())),\n",
    "    )\n",
    "\n",
    "dashboard = pn.Column(pn.Row(title), tabs, width=900)\n",
    "\n"
   ]
  },
  {
   "cell_type": "markdown",
   "metadata": {},
   "source": [
    "## Serve the Panel Dashboard"
   ]
  },
  {
   "cell_type": "code",
   "execution_count": null,
   "metadata": {},
   "outputs": [],
   "source": [
    "# Serve the dashboard\n",
    "dashboard.servable()"
   ]
  },
  {
   "cell_type": "markdown",
   "metadata": {},
   "source": [
    "# Debugging\n",
    "\n",
    "Note: Some of the Plotly express plots may not render in the notebook through the panel functions.\n",
    "\n",
    "However, you can test each plot by uncommenting the following code"
   ]
  },
  {
   "cell_type": "code",
   "execution_count": null,
   "metadata": {},
   "outputs": [],
   "source": [
    "housing_units_per_year()"
   ]
  },
  {
   "cell_type": "code",
   "execution_count": null,
   "metadata": {},
   "outputs": [],
   "source": [
    "average_gross_rent()"
   ]
  },
  {
   "cell_type": "code",
   "execution_count": null,
   "metadata": {},
   "outputs": [],
   "source": [
    "average_sales_price()"
   ]
  },
  {
   "cell_type": "code",
   "execution_count": null,
   "metadata": {},
   "outputs": [],
   "source": [
    "average_price_by_neighborhood()"
   ]
  },
  {
   "cell_type": "code",
   "execution_count": null,
   "metadata": {},
   "outputs": [],
   "source": [
    "top_most_expensive_neighborhoods()"
   ]
  },
  {
   "cell_type": "code",
   "execution_count": null,
   "metadata": {},
   "outputs": [],
   "source": [
    "most_expensive_neighborhoods_rent_sales()"
   ]
  },
  {
   "cell_type": "code",
   "execution_count": null,
   "metadata": {},
   "outputs": [],
   "source": [
    "neighborhood_map().show()"
   ]
  },
  {
   "cell_type": "code",
   "execution_count": null,
   "metadata": {},
   "outputs": [],
   "source": [
    "parallel_categories()"
   ]
  },
  {
   "cell_type": "code",
   "execution_count": null,
   "metadata": {},
   "outputs": [],
   "source": [
    "parallel_coordinates()"
   ]
  },
  {
   "cell_type": "code",
   "execution_count": null,
   "metadata": {},
   "outputs": [],
   "source": [
    "sunburst()"
   ]
  }
 ],
 "metadata": {
  "file_extension": ".py",
  "kernelspec": {
   "display_name": "Python 3",
   "language": "python",
   "name": "python3"
  },
  "language_info": {
   "codemirror_mode": {
    "name": "ipython",
    "version": 3
   },
   "file_extension": ".py",
   "mimetype": "text/x-python",
   "name": "python",
   "nbconvert_exporter": "python",
   "pygments_lexer": "ipython3",
   "version": "3.7.10"
  },
  "mimetype": "text/x-python",
  "name": "python",
  "npconvert_exporter": "python",
  "pygments_lexer": "ipython3",
  "version": 3
 },
 "nbformat": 4,
 "nbformat_minor": 4
}
